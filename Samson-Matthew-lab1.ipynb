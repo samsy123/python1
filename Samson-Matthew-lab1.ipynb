{
 "cells": [
  {
   "cell_type": "markdown",
   "id": "4c0c962f-7a6b-40b4-8b48-b5546612df35",
   "metadata": {},
   "source": [
    "# Assignment: Lab 1\n",
    "\n",
    "## Instructions\n",
    "\n",
    "This is the template file for the assignment of Module 4 called \"Lab 1.\" Please carefully follow the instructions below.\n",
    "\n",
    "1. Rename this file by filling out your surname and first name in the file name. For example, if your surname is Ilagan and if your first name is Joben, then rename the file to ILAGAN-JOBEN-lab1.ipynb.\n",
    "2. Fill out the markdown cell just above `Problem 1` with your student details as indicated.  \n",
    "3. To submit this file, first, upload your file to your GitHub repository and, second, submit your repository link to the assignment on Canvas."
   ]
  },
  {
   "cell_type": "markdown",
   "id": "bfe86ae2-822c-4c45-bc31-f1931327f36f",
   "metadata": {},
   "source": [
    "## Student Details\n",
    "\n",
    "ID Number:  205883\n",
    "Surname:  Samson\n",
    "Year and Course:  2 BS ITE"
   ]
  },
  {
   "cell_type": "markdown",
   "id": "831b75c5-94cd-48ee-818e-b2cc2bcd2df9",
   "metadata": {},
   "source": [
    "## Problem 1 (3 points)\n",
    "\n",
    "### Currency Converter  \n",
    "\n",
    "Overall prompt: **Write a function called `dollars_to_pesos` that accepts an amount in US dollars and that RETURNS a string that indicates the equivalent amount in Philippine pesos.**  \n",
    "\n",
    "The program must follow these specifications: \n",
    "1. It is very important that your entire program is contained within a function. It is also very important that your output value is **returned** and not merely printed. This is to make sure that the function, when called, actually evaluates to a value instead of merely printing the calculated value out to the terminal. This is because the function, conceptually, is intended to be a utility function for further conversions, so it needs to evaluate to a value on its own.\n",
    "2. The function must accept the input through one parameter called `dollars`.\n",
    "3. The function must return a string that is formatted as follows: `{dollars} US dollar(s) = {pesos} Philippine pesos.`, where `dollars` is the amount of dollars given as input and where `pesos` is the equivalent amount of pesos for the given dollars. \n",
    "4. For simplicity, use the conversion rate \\$1 = PHP 50.  \n",
    "\n",
    "#### Sample Input and Output  \n",
    "\n",
    "Sample Input:  \n",
    "`Enter the amount in US Dollars: 1`  \n",
    "Sample Output:  \n",
    "`1 US dollar(s) = 50 Philippine Pesos.`  "
   ]
  },
  {
   "cell_type": "code",
   "execution_count": 1,
   "id": "d1c57183-f60b-44c4-be5d-646a211d4d00",
   "metadata": {},
   "outputs": [
    {
     "name": "stdout",
     "output_type": "stream",
     "text": [
      "Enter Amount of Dollars: 1\n",
      "1.0 US Dollar(s) = 50.0 Philippine peso(s).\n"
     ]
    }
   ],
   "source": [
    "def dollars_to_pesos (dollars):\n",
    "    pesos = dollars*50 \n",
    "    return pesos\n",
    "    \n",
    "#ask for usd\n",
    "dollars= float(input(\"Enter Amount of Dollars: \"))\n",
    "\n",
    "#display converted amount \n",
    "print (dollars,\"US Dollar(s) =\",dollars_to_pesos (dollars),\"Philippine peso(s).\")"
   ]
  },
  {
   "cell_type": "markdown",
   "id": "0c63142e-3643-4989-9357-2911bae45f69",
   "metadata": {},
   "source": [
    "# Problem 2 (3) \n",
    "### Numerical Operations  \n",
    "\n",
    "Overall prompt: **Write a function called `perform_operations` that accepts two parameters, `x` and `y`, which are integers. The function should PRINT the results of performing operations on those two numbers.**  \n",
    "\n",
    "The program must follow these specifications:\n",
    "1. It is very important that the function **prints** the output this time.  \n",
    "2. The function must accept two parameters, `x` and `y`, which are both integers.\n",
    "3. The function should print the results of *addition*, *subtraction*, *multiplication*, *division without the remainder*, and finally the *remainder upon division* of `x` and `y` on separate lines.\n",
    "\n",
    "#### Sample Input and Output \n",
    "\n",
    "Sample Input:  \n",
    "`55`  \n",
    "`3`  \n",
    "Sample Output:  \n",
    "`58`  \n",
    "`52`  \n",
    "`165`  \n",
    "`18`  \n",
    "`1`  "
   ]
  },
  {
   "cell_type": "code",
   "execution_count": 4,
   "id": "680fb8a3",
   "metadata": {},
   "outputs": [
    {
     "name": "stdout",
     "output_type": "stream",
     "text": [
      "Enter First Number: 55\n",
      "Enter Second Number: 3\n",
      "58\n",
      "52\n",
      "165\n",
      "18\n",
      "1\n"
     ]
    }
   ],
   "source": [
    "def perform__operations (x,y):\n",
    "    print(int(x+y))\n",
    "    print(int(x-y))\n",
    "    print(int(x*y))\n",
    "    print(int(x//y))\n",
    "    print(int(x%y))\n",
    "\n",
    "x= float(input(\"Enter First Number: \"))\n",
    "y= float(input(\"Enter Second Number: \"))\n",
    "    \n",
    "perform__operations (x,y)"
   ]
  },
  {
   "cell_type": "markdown",
   "id": "24da35c8-9b83-4394-88bb-f35e60b2c86f",
   "metadata": {},
   "source": [
    "## Problem 3 (4) \n",
    "### BMI Calculator  \n",
    "\n",
    "Overall prompt: **Write a function called `bmi` that computes for and _returns_ your Body Mass Index (BMI). The formula for BMI is as follows:**  \n",
    "\n",
    "`BMI = (kg) / (m^2)`  \n",
    "\n",
    "In the formula, `kg` is a person's weight in kilograms, and `m` is the person's height in meters.  \n",
    "\n",
    "The program must follow these specifications:  \n",
    "1. The function `bmi` must accept two parameters `kg` and `cm`, where `kg` is a person's weight in kilograms and `cm` is the person's height in _centimeters_.  \n",
    "2. The function must return a _float_. This float will be checked for computational accuracy within 4 decimal places.  \n",
    "\n",
    "#### Sample Input and Output\n",
    "\n",
    "Sample Input:  \n",
    "`kg = 65, cm = 180`  \n",
    "Sample Output:  \n",
    "`20.061728395061728`  "
   ]
  },
  {
   "cell_type": "code",
   "execution_count": 6,
   "id": "830c6b14-7f2a-4fcd-8a2c-79ea32624506",
   "metadata": {},
   "outputs": [
    {
     "name": "stdout",
     "output_type": "stream",
     "text": [
      "Enter Weight in Kilograms: 65\n",
      "Enter Height in Centimeters180\n"
     ]
    },
    {
     "data": {
      "text/plain": [
       "20.061728395061728"
      ]
     },
     "execution_count": 6,
     "metadata": {},
     "output_type": "execute_result"
    }
   ],
   "source": [
    "def bmi (kg, cm):\n",
    "    m = cm/100\n",
    "    answ=(kg)/(m**2)\n",
    "    return answ\n",
    "kg= float(input(\"Enter Weight in Kilograms: \"))\n",
    "cm= float(input(\"Enter Height in Centimeters\"))\n",
    "bmi (kg, cm)"
   ]
  },
  {
   "cell_type": "code",
   "execution_count": null,
   "id": "eb3c8f35",
   "metadata": {},
   "outputs": [],
   "source": []
  }
 ],
 "metadata": {
  "kernelspec": {
   "display_name": "Python 3",
   "language": "python",
   "name": "python3"
  },
  "language_info": {
   "codemirror_mode": {
    "name": "ipython",
    "version": 3
   },
   "file_extension": ".py",
   "mimetype": "text/x-python",
   "name": "python",
   "nbconvert_exporter": "python",
   "pygments_lexer": "ipython3",
   "version": "3.8.8"
  }
 },
 "nbformat": 4,
 "nbformat_minor": 5
}
