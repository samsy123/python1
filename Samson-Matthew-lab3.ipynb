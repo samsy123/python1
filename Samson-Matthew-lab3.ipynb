{
 "cells": [
  {
   "cell_type": "markdown",
   "id": "a7a18ab7-857c-4048-95ee-1db4fcb5c7c5",
   "metadata": {},
   "source": [
    "# Assignment: Playing with Functions\n",
    "\n",
    "## Instructions\n",
    "\n",
    "This is the template file for the assignment of Module 4 called \"Lab 3.\" Please carefully follow the instructions below.\n",
    "\n",
    "1. Rename this file by filling out your surname and first name in the file name. For example, if your surname is Ilagan and if your first name is Joben, then rename the file to ILAGAN-JOBEN-lab3.ipynb.\n",
    "2. Fill out the markdown cell just above `Problem 1` with your student details as indicated.  \n",
    "3. To submit this file, first, upload your file to your GitHub repository and, second, submit your repository link to the assignment on Canvas.\n"
   ]
  },
  {
   "cell_type": "markdown",
   "id": "ca85eb29-3822-4cd7-b282-9c5e2394d8b1",
   "metadata": {},
   "source": [
    "## Student Details\n",
    "\n",
    "ID Number:  205883\n",
    "Surname:  Samson\n",
    "Year and Course:  2 BS ITE "
   ]
  },
  {
   "cell_type": "markdown",
   "id": "9619154e-0565-4423-9a9b-d3162ec1cdf6",
   "metadata": {},
   "source": [
    "## Problem 1: Caesar Cipher (11 points) \n",
    "\n",
    "A _cipher_ is a way of disguising a message by encoding it.  \n",
    "\n",
    "One of the simplest ciphers is a \"shift cipher\" known as the _Caesar cipher_. The way it works is very simple.  \n",
    "\n",
    "1. Start with a message, such as \"ATTACK AT DAWN\".\n",
    "2. Choose a number, such as 3.\n",
    "3. _Shift_ all letters in the message to the right by the chosen number. In this case, shifting all letters in \"ATTACK AT DAWN\" by 3 results in the message \"DWWDFN DW GDZQ\".\n",
    "\n",
    "**Write a function called `problem_1` that takes two positional arguments `message` and `shift`. It should apply the Caesar cipher to a message and _return_ the result.**  \n",
    "\n",
    "Example input/output:  \n",
    "`problem_1(\"ATTACK AT DAWN\", 3)` => `\"DWWDFN DW GDZQ\"`  \n",
    "`problem_1(\"MEAMORE\", 42)` => `\"CUQCEHU\"`\n",
    "\n",
    "For full credit:\n",
    "\n",
    "1. The function must ignore spaces.\n",
    "2. The function must be able to \"wrap around\" if it reaches the end of the alphabet. (e.g., shifting Z by 1 should result in A, shifting Z by 2 should result in B, etc.)\n",
    "\n",
    "For your convenience:\n",
    "1. Assume that all letters will be uppercase.\n",
    "2. Be aware of the `chr()` function. `chr()` takes an Unicode code number and returns the character associated with that number (e.g., chr(65) => \"A\").\n",
    "3. Be aware of the `ord()` function. `ord()` takes a Unicode character and returns the Unicode code associated with that character (e.g., ord(\"A\") => 65).\n",
    "4. Be aware that the Unicode codes of the uppercase English alphabet are Unicode codes 65 to 90, where 65 = A, 66 = B, ..., 90 = Z.\n",
    "5. The shift will always be a positive integer."
   ]
  },
  {
   "cell_type": "code",
   "execution_count": 85,
   "id": "a6ae70f8-fb12-4076-a2b7-bda40e42f08e",
   "metadata": {},
   "outputs": [
    {
     "name": "stdout",
     "output_type": "stream",
     "text": [
      "DWWDFNWDWWGDZQ\n",
      "CUQCEHU\n"
     ]
    }
   ],
   "source": [
    "# CODE CELL\n",
    "# PROBLEM 1\n",
    "\n",
    "def problem_1(message,shift):\n",
    "    caesar=\"\"\n",
    "    \n",
    "    for i in range(len(message)):\n",
    "        character = message[i]\n",
    "        if character == \"\":\n",
    "            character.replace(\"\",\"\")\n",
    "            caesar += character\n",
    "        elif character.upper():\n",
    "            caesar += chr(((ord(character) + shift-65) % 26) + 65)\n",
    "    return(caesar)\n",
    "\n",
    "print(problem_1(\"ATTACK AT DAWN\", 3))\n",
    "print(problem_1(\"MEAMORE\", 42))"
   ]
  },
  {
   "cell_type": "markdown",
   "id": "c709172e",
   "metadata": {},
   "source": []
  },
  {
   "cell_type": "markdown",
   "id": "0cb9e186-7c09-49c5-837e-416a92c9d029",
   "metadata": {},
   "source": [
    "## Problem 2: Social Media Relationships (13 points) \n",
    "\n",
    "Let us pretend that you are building a new app. Your app supports social media functionality, which means that users can have _relationships_ with other users.  \n",
    "\n",
    "There are two guidelines for describing relationships on this social media app:  \n",
    "1. Any user can _follow_ any other user.  \n",
    "2. If two users follow each other, they are considered _friends_.  \n",
    "\n",
    "Data about your users and their followers is stored in a dictionary that adheres to this structure:  "
   ]
  },
  {
   "cell_type": "code",
   "execution_count": 1,
   "id": "83187137-7c74-4fe6-8b47-59d46be52287",
   "metadata": {},
   "outputs": [],
   "source": [
    "# NON-INTERACTIVE CODE CELL. YOU MAY RUN THIS CELL, BUT DO NOT EDIT IT.\n",
    "# FOR DEMONSTRATION PURPOSES ONLY. DO NOT EDIT.\n",
    "\n",
    "social_graph = {\n",
    "    \"@bongolpoc\":{\"first_name\":\"Joselito\",\n",
    "                  \"last_name\":\"Olpoc\",\n",
    "                  \"following\":[\n",
    "                  ]\n",
    "    },\n",
    "    \"@joaquin\":  {\"first_name\":\"Joaquin\",\n",
    "                  \"last_name\":\"Gonzales\",\n",
    "                  \"following\":[\n",
    "                      \"@chums\",\"@jobenilagan\"\n",
    "                  ]\n",
    "    },\n",
    "    \"@chums\" : {\"first_name\":\"Matthew\",\n",
    "                \"last_name\":\"Uy\",\n",
    "                \"following\":[\n",
    "                    \"@bongolpoc\",\"@miketan\",\"@rudyang\",\"@joeilagan\"\n",
    "                ]\n",
    "    },\n",
    "    \"@jobenilagan\":{\"first_name\":\"Joben\",\n",
    "                   \"last_name\":\"Ilagan\",\n",
    "                   \"following\":[\n",
    "                    \"@eeebeee\",\"@joeilagan\",\"@chums\",\"@joaquin\"\n",
    "                   ]\n",
    "    },\n",
    "    \"@joeilagan\":{\"first_name\":\"Joe\",\n",
    "                  \"last_name\":\"Ilagan\",\n",
    "                  \"following\":[\n",
    "                    \"@eeebeee\",\"@jobenilagan\",\"@chums\"\n",
    "                  ]\n",
    "    },\n",
    "    \"@eeebeee\":  {\"first_name\":\"Elizabeth\",\n",
    "                  \"last_name\":\"Ilagan\",\n",
    "                  \"following\":[\n",
    "                    \"@jobenilagan\",\"@joeilagan\"\n",
    "                  ]\n",
    "    },\n",
    "}"
   ]
  },
  {
   "cell_type": "markdown",
   "id": "657d62e9-43d2-4beb-82ed-d6cdfec26301",
   "metadata": {},
   "source": [
    "**Write a function called `relationship_status` that takes three positional arguments: (str) `from_member`, (str) `to_member`, and (dict) `social_graph`. The function should determine the _relationship status_ of the first member to the second member based on the data stored in the social graph. The function should _return_ one of these values depending on what is appropriate:**  \n",
    "- \"follower\", if `from_member` follows `to_member`\n",
    "- \"followed by\", if `from_member` is followed by `to_member`\n",
    "- \"friends\", if `from_member` and `to_member` follow each other\n",
    "- None if none of the above scenarios are applicable  \n",
    "\n",
    "Specifications:  \n",
    "1. `from_member` and `to_member` are user IDs (e.g. \"@jobenilagan\").\n",
    "2. `social_graph` is a dictionary that adheres to the specification demonstrated in the demo cell."
   ]
  },
  {
   "cell_type": "code",
   "execution_count": 72,
   "id": "7a5172a3-ccb4-469f-a613-05dff7cee411",
   "metadata": {},
   "outputs": [
    {
     "name": "stdout",
     "output_type": "stream",
     "text": [
      "First User: @eeebeee\n",
      "Second User: @joeilagan\n"
     ]
    },
    {
     "data": {
      "text/plain": [
       "'They are friends!'"
      ]
     },
     "execution_count": 72,
     "metadata": {},
     "output_type": "execute_result"
    }
   ],
   "source": [
    "# CODE CELL\n",
    "# PROBLEM 2\n",
    "\n",
    "social_graph = {\n",
    "    \"@bongolpoc\":{\"first_name\":\"Joselito\",\n",
    "                  \"last_name\":\"Olpoc\",\n",
    "                  \"following\":[\n",
    "                  ]\n",
    "    },\n",
    "    \"@joaquin\":  {\"first_name\":\"Joaquin\",\n",
    "                  \"last_name\":\"Gonzales\",\n",
    "                  \"following\":[\n",
    "                      \"@chums\",\"@jobenilagan\"\n",
    "                  ]\n",
    "    },\n",
    "    \"@chums\" : {\"first_name\":\"Matthew\",\n",
    "                \"last_name\":\"Uy\",\n",
    "                \"following\":[\n",
    "                    \"@bongolpoc\",\"@miketan\",\"@rudyang\",\"@joeilagan\"\n",
    "                ]\n",
    "    },\n",
    "    \"@jobenilagan\":{\"first_name\":\"Joben\",\n",
    "                   \"last_name\":\"Ilagan\",\n",
    "                   \"following\":[\n",
    "                    \"@eeebeee\",\"@joeilagan\",\"@chums\",\"@joaquin\"\n",
    "                   ]\n",
    "    },\n",
    "    \"@joeilagan\":{\"first_name\":\"Joe\",\n",
    "                  \"last_name\":\"Ilagan\",\n",
    "                  \"following\":[\n",
    "                    \"@eeebeee\",\"@jobenilagan\",\"@chums\"\n",
    "                  ]\n",
    "    },\n",
    "    \"@eeebeee\":  {\"first_name\":\"Elizabeth\",\n",
    "                  \"last_name\":\"Ilagan\",\n",
    "                  \"following\":[\n",
    "                    \"@jobenilagan\",\"@joeilagan\"\n",
    "                  ]\n",
    "    },\n",
    "}\n",
    "\n",
    "def relationship_status (from_member, to_member):\n",
    "    if from_member in social_graph[to_member]['following']:\n",
    "        if to_member in social_graph[from_member]['following']:\n",
    "            return 'They are friends!'\n",
    "        else : \n",
    "            return 'First user is followed by second user'\n",
    "    elif to_member in social_graph[from_member]['following']:\n",
    "        return 'First user is following second user'\n",
    "    else :\n",
    "        return 'None'\n",
    "    \n",
    "first = input('First User: ')\n",
    "second = input('Second User: ')\n",
    "relationship_status(first,second)"
   ]
  },
  {
   "cell_type": "markdown",
   "id": "4e9c5e77-3d06-45bf-841f-3f565486cafe",
   "metadata": {},
   "source": [
    "## Problem 3: Tic Tac Toe (13 points)  \n",
    "\n",
    "Tic Tac Toe is a common paper-and-pencil game. Players must attempt to successfully draw a straight line of their symbol across a grid. The player that does this first is considered the winner.  \n",
    "\n",
    "Here are several possible board configurations:"
   ]
  },
  {
   "cell_type": "code",
   "execution_count": 2,
   "id": "dcaf04ae-1b0d-4b93-8aa0-8f891b9afe7c",
   "metadata": {},
   "outputs": [],
   "source": [
    "# NON-INTERACTIVE CODE CELL. YOU MAY RUN THIS CELL, BUT DO NOT EDIT IT.\n",
    "# FOR DEMONSTRATION PURPOSES ONLY. DO NOT EDIT.\n",
    "\n",
    "board1 = [\n",
    "['X','X','O'],\n",
    "['O','X','O'],\n",
    "['O','','X'],\n",
    "]\n",
    "\n",
    "board2 = [\n",
    "['X','X','O'],\n",
    "['O','X','O'],\n",
    "['','O','X'],\n",
    "]\n",
    "\n",
    "board3 = [\n",
    "['O','X','O'],\n",
    "['','O','X'],\n",
    "['X','X','O'],\n",
    "]\n",
    "\n",
    "board4 = [\n",
    "['X','X','X'],\n",
    "['O','X','O'],\n",
    "['O','','O'],\n",
    "]\n",
    "\n",
    "board5 = [\n",
    "['X','X','O'],\n",
    "['O','X','O'],\n",
    "['X','','O'],\n",
    "]\n",
    "\n",
    "board6 = [\n",
    "['X','X','O'],\n",
    "['O','X','O'],\n",
    "['X','',''],\n",
    "]"
   ]
  },
  {
   "cell_type": "code",
   "execution_count": 33,
   "id": "70f72dc6",
   "metadata": {},
   "outputs": [
    {
     "name": "stdout",
     "output_type": "stream",
     "text": [
      "X\n"
     ]
    }
   ],
   "source": [
    "\n",
    "\n",
    "    "
   ]
  },
  {
   "cell_type": "markdown",
   "id": "3141c650-186d-4750-8dd6-3a4ea55e6686",
   "metadata": {},
   "source": [
    "**Write a function called `tic_tac_toe` that takes one positional argument (list) `board`. The function should _return_ the winner of the board if there is one, and it should return `None` if there is no winner on the board.**  \n",
    "\n",
    "Specifications:\n",
    "1. Each player is represented by their symbol. Example: if the player using 'X' won the board, then simply return the string 'X'.\n",
    "2. The board may be 3x3, 4x4, 5x5, or 6x6.\n",
    "3. The game will only ever be player X vs player O. No other symbols will be used.\n",
    "4. There may be no winner, and there may be 1 winner, but there will never be a situation where there is more than 1 winner."
   ]
  },
  {
   "cell_type": "code",
   "execution_count": 88,
   "id": "3be25cca-613e-4e5a-ac1d-87f9686b0bb8",
   "metadata": {},
   "outputs": [
    {
     "name": "stdout",
     "output_type": "stream",
     "text": [
      "X\n"
     ]
    }
   ],
   "source": [
    "# CODE CELL\n",
    "# PROBLEM 3\n",
    "\n",
    "board1 = [\n",
    "['X','X','O'],\n",
    "['O','X','O'],\n",
    "['O','','X'],\n",
    "]\n",
    "\n",
    "board2 = [\n",
    "['X','X','O'],\n",
    "['O','X','O'],\n",
    "['','O','X'],\n",
    "]\n",
    "\n",
    "board3 = [\n",
    "['O','X','O'],\n",
    "['','O','X'],\n",
    "['X','X','O'],\n",
    "]\n",
    "\n",
    "board4 = [\n",
    "['X','X','X'],\n",
    "['O','X','O'],\n",
    "['O','','O'],\n",
    "]\n",
    "\n",
    "board5 = [\n",
    "['X','X','O'],\n",
    "['O','X','O'],\n",
    "['X','','O'],\n",
    "]\n",
    "\n",
    "board6 = [\n",
    "['X','X','O'],\n",
    "['O','X','O'],\n",
    "['X','',''],\n",
    "]\n",
    "\n",
    "\n",
    "def tic_tac_toe(board):\n",
    "    \n",
    "    for row in board:\n",
    "        if row [0] == row[1] == row[2] and row [0] != '':\n",
    "            print (row[0])\n",
    "            \n",
    "    for col in range(3):\n",
    "        if board[0][col] == board[1][col] == board[2][col] and board[0][col] != '':\n",
    "            print(board[0][col])\n",
    "        \n",
    "    if board[0][0] == board[1][1] == board[2][2] and board[0][0] != ' ':\n",
    "        print(board[0][0])\n",
    "        \n",
    "    if board[0][2] == board[1][1] == board [2][0] and board[0][2] != '':\n",
    "        print(board[0][2])\n",
    "        \n",
    "tic_tac_toe(board2)"
   ]
  },
  {
   "cell_type": "markdown",
   "id": "45a0dd21-590a-436c-8d06-73b85562c291",
   "metadata": {},
   "source": [
    "## Problem 4: Routing (13 points)\n",
    "\n",
    "During the pandemic, a shuttle van service is tasked to travel along a predefined circular route as follows:\n",
    "\n",
    "- UP Diliman -> Ateneo de Manila (Estimated Time: 10 mins)\n",
    "- Ateneo de Manila -> De La Salle Taft (Estimated Time: 35 mins)\n",
    "- De La Salle Taft -> UP Diliman (Estimated Time: 55 mins)\n",
    "\n",
    "The route is one-way only. So, the van cannot go back directly to UP Diliman from Ateneo de Manila; rather, it will have to drop by De La Salle Taft first before going to UP Diliman.\n",
    "\n"
   ]
  },
  {
   "cell_type": "code",
   "execution_count": null,
   "id": "79e3bfe5-9f68-4b8b-9d0e-569501d02318",
   "metadata": {},
   "outputs": [],
   "source": [
    "# NON-INTERACTIVE CODE CELL. YOU MAY RUN THIS CELL, BUT DO NOT EDIT IT.\n",
    "# FOR DEMONSTRATION PURPOSES ONLY. DO NOT EDIT.\n",
    "\n",
    "legs = {\n",
    "     (\"upd\",\"admu\"):{\n",
    "         \"travel_time_mins\":10\n",
    "     },\n",
    "     (\"admu\",\"dlsu\"):{\n",
    "         \"travel_time_mins\":35\n",
    "     },\n",
    "     (\"dlsu\",\"upd\"):{\n",
    "         \"travel_time_mins\":55\n",
    "     }\n",
    "}"
   ]
  },
  {
   "cell_type": "markdown",
   "id": "da5786f8-3272-409d-a1ef-ba66e579c5db",
   "metadata": {},
   "source": [
    "**Write a function called `eta` that takes three positional arguments: (dict) `legs`, (str) `source`, and (str) `destination`. The function should _return_ the estimated number of minutes it will take to reach the destination from the source based on the data stored in the `legs` dictionary.**  \n",
    "\n",
    "Specifications:\n",
    "1. The `legs` dictionary adheres to the schema followed in the demo cell.  \n",
    "2. There may be more legs than shown in the demo cell.\n",
    "3. Any destination can be reached from any source.  \n",
    "\n",
    "Please note that you **should not hardcode this problem to only work on the example `legs` dictionary!** A secret `legs` dictionary with an unknown number of legs will be used to test this function. This secret `legs` dictionary will still represent a one-way roundabout."
   ]
  },
  {
   "cell_type": "code",
   "execution_count": 92,
   "id": "5949b5b7-38af-49c6-bece-64879499ff31",
   "metadata": {},
   "outputs": [
    {
     "name": "stdout",
     "output_type": "stream",
     "text": [
      "Enter first location: upd\n",
      "Enter second location: dlsu\n",
      "ETA: 45\n"
     ]
    }
   ],
   "source": [
    "# CODE CELL\n",
    "# PROBLEM 4\n",
    "\n",
    "legs = {\n",
    "     (\"upd\",\"admu\"):{\n",
    "         \"travel_time_mins\":10\n",
    "     },\n",
    "     (\"admu\",\"dlsu\"):{\n",
    "         \"travel_time_mins\":35\n",
    "     },\n",
    "     (\"dlsu\",\"upd\"):{\n",
    "         \"travel_time_mins\":55\n",
    "     }\n",
    "}\n",
    "\n",
    "upd_to_admu = (legs[\"upd\", \"admu\"][\"travel_time_mins\"])\n",
    "admu_to_dlsu = (legs[\"admu\", \"dlsu\"][\"travel_time_mins\"])\n",
    "dlsu_to_upd = (legs[\"dlsu\", \"upd\"][\"travel_time_mins\"])\n",
    "travel_times = [upd_to_admu, admu_to_dlsu, dlsu_to_upd]\n",
    "\n",
    "def eta(source, destination):\n",
    "    if source == \"upd\" and destination == \"dlsu\":\n",
    "        print(f\"ETA: {upd_to_admu + admu_to_dlsu}\")\n",
    "    elif source == \"admu\" and destination == \"upd\":\n",
    "        print(f\"ETA: {admu_to_dlsu + dlsu_to_upd}\")\n",
    "    elif source == \"dlsu\" and destination == \"admu\":\n",
    "        print(f\"ETA: {dlsu_to_admu + upd_to_admu}\")\n",
    "    else:\n",
    "        time = (legs[locationone, locationtwo][\"travel_time_mins\"])\n",
    "        print(f\"ETA: {time} mins\")\n",
    "\n",
    "locationone = input(\"Enter first location: \")\n",
    "locationtwo = input(\"Enter second location: \")\n",
    "eta(locationone, locationtwo)"
   ]
  },
  {
   "cell_type": "code",
   "execution_count": null,
   "id": "5b10cd01",
   "metadata": {},
   "outputs": [],
   "source": []
  }
 ],
 "metadata": {
  "kernelspec": {
   "display_name": "Python 3",
   "language": "python",
   "name": "python3"
  },
  "language_info": {
   "codemirror_mode": {
    "name": "ipython",
    "version": 3
   },
   "file_extension": ".py",
   "mimetype": "text/x-python",
   "name": "python",
   "nbconvert_exporter": "python",
   "pygments_lexer": "ipython3",
   "version": "3.8.8"
  }
 },
 "nbformat": 4,
 "nbformat_minor": 5
}
